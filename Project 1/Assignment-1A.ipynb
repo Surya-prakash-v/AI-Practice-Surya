Just to create the folder structure
