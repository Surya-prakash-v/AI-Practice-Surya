{
  "nbformat": 4,
  "nbformat_minor": 0,
  "metadata": {
    "colab": {
      "name": "Answer Quiz 7.ipynb",
      "version": "0.3.2",
      "provenance": [],
      "collapsed_sections": []
    },
    "kernelspec": {
      "name": "python3",
      "display_name": "Python 3"
    },
    "accelerator": "GPU"
  },
  "cells": [
    {
      "cell_type": "markdown",
      "metadata": {
        "id": "aNyZv-Ec52ot",
        "colab_type": "text"
      },
      "source": [
        "# **Import Libraries and modules**"
      ]
    },
    {
      "cell_type": "code",
      "metadata": {
        "id": "3m3w1Cw49Zkt",
        "colab_type": "code",
        "outputId": "c95efb26-010a-451f-f4f4-ab9a87340455",
        "colab": {
          "base_uri": "https://localhost:8080/",
          "height": 35
        }
      },
      "source": [
        "# https://keras.io/\n",
        "!pip install -q keras\n",
        "import keras\n",
        "from datetime import datetime\n",
        "print(datetime.now())"
      ],
      "execution_count": 46,
      "outputs": [
        {
          "output_type": "stream",
          "text": [
            "2019-06-19 14:21:44.714960\n"
          ],
          "name": "stdout"
        }
      ]
    },
    {
      "cell_type": "code",
      "metadata": {
        "id": "Eso6UHE080D4",
        "colab_type": "code",
        "outputId": "d30b463a-60ac-4cc5-f64f-43842e695cf6",
        "colab": {
          "base_uri": "https://localhost:8080/",
          "height": 35
        }
      },
      "source": [
        "import numpy as np\n",
        "\n",
        "from keras.models import Sequential\n",
        "from keras.layers import Dense, Dropout, Activation, Flatten, Add\n",
        "from keras.layers import Convolution2D, MaxPooling2D\n",
        "from keras.utils import np_utils\n",
        "\n",
        "from keras.datasets import mnist\n",
        "print(datetime.now())"
      ],
      "execution_count": 47,
      "outputs": [
        {
          "output_type": "stream",
          "text": [
            "2019-06-19 14:21:44.725040\n"
          ],
          "name": "stdout"
        }
      ]
    },
    {
      "cell_type": "markdown",
      "metadata": {
        "id": "zByEi95J86RD",
        "colab_type": "text"
      },
      "source": [
        "### Load pre-shuffled MNIST data into train and test sets"
      ]
    },
    {
      "cell_type": "code",
      "metadata": {
        "id": "7eRM0QWN83PV",
        "colab_type": "code",
        "colab": {
          "base_uri": "https://localhost:8080/",
          "height": 35
        },
        "outputId": "f5169e8e-c437-475f-d977-4493ac899ea9"
      },
      "source": [
        "(X_train, y_train), (X_test, y_test) = mnist.load_data()\n",
        "print(datetime.now())"
      ],
      "execution_count": 48,
      "outputs": [
        {
          "output_type": "stream",
          "text": [
            "2019-06-19 14:21:45.045394\n"
          ],
          "name": "stdout"
        }
      ]
    },
    {
      "cell_type": "code",
      "metadata": {
        "id": "4a4Be72j8-ZC",
        "colab_type": "code",
        "colab": {
          "base_uri": "https://localhost:8080/",
          "height": 304
        },
        "outputId": "7e1c2112-3831-45f9-9bed-f9598c78095c"
      },
      "source": [
        "print (X_train.shape)\n",
        "from matplotlib import pyplot as plt\n",
        "%matplotlib inline\n",
        "plt.imshow(X_train[0])\n",
        "print(datetime.now())"
      ],
      "execution_count": 49,
      "outputs": [
        {
          "output_type": "stream",
          "text": [
            "(60000, 28, 28)\n",
            "2019-06-19 14:21:45.076658\n"
          ],
          "name": "stdout"
        },
        {
          "output_type": "display_data",
          "data": {
            "image/png": "[encoded data removed]",
            "text/plain": [
              "<Figure size 432x288 with 1 Axes>"
            ]
          },
          "metadata": {
            "tags": []
          }
        }
      ]
    },
    {
      "cell_type": "code",
      "metadata": {
        "id": "dkmprriw9AnZ",
        "colab_type": "code",
        "colab": {
          "base_uri": "https://localhost:8080/",
          "height": 35
        },
        "outputId": "e937a756-8bda-4417-f62d-a5920880a042"
      },
      "source": [
        "X_train = X_train.reshape(X_train.shape[0], 28, 28,1)\n",
        "X_test = X_test.reshape(X_test.shape[0], 28, 28,1)\n",
        "print(datetime.now())"
      ],
      "execution_count": 50,
      "outputs": [
        {
          "output_type": "stream",
          "text": [
            "2019-06-19 14:21:45.232099\n"
          ],
          "name": "stdout"
        }
      ]
    },
    {
      "cell_type": "code",
      "metadata": {
        "id": "X2m4YS4E9CRh",
        "colab_type": "code",
        "colab": {
          "base_uri": "https://localhost:8080/",
          "height": 35
        },
        "outputId": "dc850aab-acd1-4b3c-d319-9c7b14c82e48"
      },
      "source": [
        "X_train = X_train.astype('float32')\n",
        "X_test = X_test.astype('float32')\n",
        "X_train /= 255\n",
        "X_test /= 255\n",
        "print(datetime.now())"
      ],
      "execution_count": 51,
      "outputs": [
        {
          "output_type": "stream",
          "text": [
            "2019-06-19 14:21:45.362662\n"
          ],
          "name": "stdout"
        }
      ]
    },
    {
      "cell_type": "code",
      "metadata": {
        "id": "0Mn0vAYD9DvB",
        "colab_type": "code",
        "colab": {
          "base_uri": "https://localhost:8080/",
          "height": 35
        },
        "outputId": "4661a2ca-d839-45ac-828f-e241c707f9a7"
      },
      "source": [
        "y_train[:10]\n",
        "print(datetime.now())"
      ],
      "execution_count": 52,
      "outputs": [
        {
          "output_type": "stream",
          "text": [
            "2019-06-19 14:21:45.372216\n"
          ],
          "name": "stdout"
        }
      ]
    },
    {
      "cell_type": "code",
      "metadata": {
        "id": "ZG8JiXR39FHC",
        "colab_type": "code",
        "colab": {
          "base_uri": "https://localhost:8080/",
          "height": 35
        },
        "outputId": "1e70c600-f347-4289-9c97-9b7cd1e29ad7"
      },
      "source": [
        "# Convert 1-dimensional class arrays to 10-dimensional class matrices\n",
        "Y_train = np_utils.to_categorical(y_train, 10)\n",
        "Y_test = np_utils.to_categorical(y_test, 10)\n",
        "print(datetime.now())"
      ],
      "execution_count": 53,
      "outputs": [
        {
          "output_type": "stream",
          "text": [
            "2019-06-19 14:21:45.392563\n"
          ],
          "name": "stdout"
        }
      ]
    },
    {
      "cell_type": "code",
      "metadata": {
        "id": "fYlFRvKS9HMB",
        "colab_type": "code",
        "colab": {
          "base_uri": "https://localhost:8080/",
          "height": 35
        },
        "outputId": "cf6c9c87-7e6b-4e46-ce4e-6ac05c901fc3"
      },
      "source": [
        "Y_train[:10]\n",
        "print(datetime.now())"
      ],
      "execution_count": 54,
      "outputs": [
        {
          "output_type": "stream",
          "text": [
            "2019-06-19 14:21:45.399760\n"
          ],
          "name": "stdout"
        }
      ]
    },
    {
      "cell_type": "code",
      "metadata": {
        "id": "osKqT73Q9JJB",
        "colab_type": "code",
        "colab": {
          "base_uri": "https://localhost:8080/",
          "height": 35
        },
        "outputId": "f5c5d77a-5a63-418b-b890-92717c98644e"
      },
      "source": [
        "## MAIN BLOCK\n",
        "\n",
        "from keras.layers import Activation,Input,Conv2D,MaxPooling2D\n",
        "from keras.layers.merge import concatenate\n",
        "from keras.models import Model\n",
        "\n",
        "x1 = Input(shape=(28,28,1))\n",
        "x2 = Conv2D(10,3,activation='relu',name='layer1',padding='same')(x1)\n",
        "c1 = concatenate([x2,x1])\n",
        "x3 = Conv2D(16,3,activation='relu',name='layer2',padding='same')(c1)\n",
        "c2 = concatenate([x2,x1,x3])\n",
        "x4 = MaxPooling2D(pool_size=(2, 2))(c2)\n",
        "x5 = Conv2D(10,3,activation='relu',name='layer3',padding='same')(x4)\n",
        "c3 = concatenate([x4,x5])\n",
        "x6 = Conv2D(16,3,activation='relu',name='layer4',padding='same')(c3)\n",
        "c4 = concatenate([x4,x5,x6])\n",
        "x7 = Conv2D(32,3,activation='relu',name='layer5',padding='same')(c4)\n",
        "c5 = concatenate([x5,x6,x7])\n",
        "x8 = MaxPooling2D(pool_size=(2, 2))(c5)\n",
        "x9 = Conv2D(10,3,activation='relu',name='layer6',padding='same')(x8)\n",
        "c6 = concatenate([x8,x9])\n",
        "x10 = Conv2D(10,3,activation='relu',name='layer7',padding='same') (c6)\n",
        "c7 = concatenate([x8,x9,x10])\n",
        "\n",
        "x11 = Conv2D(10,3,activation='relu',name='layer8',padding='same') (c7)\n",
        "x12 = Conv2D(10,7,activation='relu',name='layer9')(x11)\n",
        "xf = Flatten()(x12)\n",
        "x13 = Activation('softmax')(xf)\n",
        "model = Model(x1,x13)\n",
        "\n",
        "print(datetime.now())"
      ],
      "execution_count": 84,
      "outputs": [
        {
          "output_type": "stream",
          "text": [
            "2019-06-19 16:37:43.336556\n"
          ],
          "name": "stdout"
        }
      ]
    },
    {
      "cell_type": "code",
      "metadata": {
        "id": "TzdAYg1k9K7Z",
        "colab_type": "code",
        "colab": {
          "base_uri": "https://localhost:8080/",
          "height": 1101
        },
        "outputId": "732ee63d-1f04-49f5-ef33-a3e1c83bb217"
      },
      "source": [
        "model.summary()\n",
        "\n",
        "print(datetime.now())"
      ],
      "execution_count": 85,
      "outputs": [
        {
          "output_type": "stream",
          "text": [
            "__________________________________________________________________________________________________\n",
            "Layer (type)                    Output Shape         Param #     Connected to                     \n",
            "==================================================================================================\n",
            "input_38 (InputLayer)           (None, 28, 28, 1)    0                                            \n",
            "__________________________________________________________________________________________________\n",
            "layer1 (Conv2D)                 (None, 28, 28, 10)   100         input_38[0][0]                   \n",
            "__________________________________________________________________________________________________\n",
            "concatenate_122 (Concatenate)   (None, 28, 28, 11)   0           layer1[0][0]                     \n",
            "                                                                 input_38[0][0]                   \n",
            "__________________________________________________________________________________________________\n",
            "layer2 (Conv2D)                 (None, 28, 28, 16)   1600        concatenate_122[0][0]            \n",
            "__________________________________________________________________________________________________\n",
            "concatenate_123 (Concatenate)   (None, 28, 28, 27)   0           layer1[0][0]                     \n",
            "                                                                 input_38[0][0]                   \n",
            "                                                                 layer2[0][0]                     \n",
            "__________________________________________________________________________________________________\n",
            "max_pooling2d_33 (MaxPooling2D) (None, 14, 14, 27)   0           concatenate_123[0][0]            \n",
            "__________________________________________________________________________________________________\n",
            "layer3 (Conv2D)                 (None, 14, 14, 10)   2440        max_pooling2d_33[0][0]           \n",
            "__________________________________________________________________________________________________\n",
            "concatenate_124 (Concatenate)   (None, 14, 14, 37)   0           max_pooling2d_33[0][0]           \n",
            "                                                                 layer3[0][0]                     \n",
            "__________________________________________________________________________________________________\n",
            "layer4 (Conv2D)                 (None, 14, 14, 16)   5344        concatenate_124[0][0]            \n",
            "__________________________________________________________________________________________________\n",
            "concatenate_125 (Concatenate)   (None, 14, 14, 53)   0           max_pooling2d_33[0][0]           \n",
            "                                                                 layer3[0][0]                     \n",
            "                                                                 layer4[0][0]                     \n",
            "__________________________________________________________________________________________________\n",
            "layer5 (Conv2D)                 (None, 14, 14, 32)   15296       concatenate_125[0][0]            \n",
            "__________________________________________________________________________________________________\n",
            "concatenate_126 (Concatenate)   (None, 14, 14, 58)   0           layer3[0][0]                     \n",
            "                                                                 layer4[0][0]                     \n",
            "                                                                 layer5[0][0]                     \n",
            "__________________________________________________________________________________________________\n",
            "max_pooling2d_34 (MaxPooling2D) (None, 7, 7, 58)     0           concatenate_126[0][0]            \n",
            "__________________________________________________________________________________________________\n",
            "layer6 (Conv2D)                 (None, 7, 7, 10)     5230        max_pooling2d_34[0][0]           \n",
            "__________________________________________________________________________________________________\n",
            "concatenate_127 (Concatenate)   (None, 7, 7, 68)     0           max_pooling2d_34[0][0]           \n",
            "                                                                 layer6[0][0]                     \n",
            "__________________________________________________________________________________________________\n",
            "layer7 (Conv2D)                 (None, 7, 7, 10)     6130        concatenate_127[0][0]            \n",
            "__________________________________________________________________________________________________\n",
            "concatenate_128 (Concatenate)   (None, 7, 7, 78)     0           max_pooling2d_34[0][0]           \n",
            "                                                                 layer6[0][0]                     \n",
            "                                                                 layer7[0][0]                     \n",
            "__________________________________________________________________________________________________\n",
            "layer8 (Conv2D)                 (None, 7, 7, 10)     7030        concatenate_128[0][0]            \n",
            "__________________________________________________________________________________________________\n",
            "layer9 (Conv2D)                 (None, 1, 1, 10)     4910        layer8[0][0]                     \n",
            "__________________________________________________________________________________________________\n",
            "flatten_8 (Flatten)             (None, 10)           0           layer9[0][0]                     \n",
            "__________________________________________________________________________________________________\n",
            "activation_14 (Activation)      (None, 10)           0           flatten_8[0][0]                  \n",
            "==================================================================================================\n",
            "Total params: 48,080\n",
            "Trainable params: 48,080\n",
            "Non-trainable params: 0\n",
            "__________________________________________________________________________________________________\n",
            "2019-06-19 16:37:49.737690\n"
          ],
          "name": "stdout"
        }
      ]
    },
    {
      "cell_type": "code",
      "metadata": {
        "id": "Zp6SuGrL9M3h",
        "colab_type": "code",
        "colab": {
          "base_uri": "https://localhost:8080/",
          "height": 35
        },
        "outputId": "28440b34-e90d-4e41-fabe-8c749b20ba65"
      },
      "source": [
        "model.compile(loss='categorical_crossentropy',\n",
        "             optimizer='adam',\n",
        "             metrics=['accuracy'])\n",
        "print(datetime.now())"
      ],
      "execution_count": 86,
      "outputs": [
        {
          "output_type": "stream",
          "text": [
            "2019-06-19 16:37:58.097094\n"
          ],
          "name": "stdout"
        }
      ]
    },
    {
      "cell_type": "code",
      "metadata": {
        "id": "4xWoKhPY9Of5",
        "colab_type": "code",
        "colab": {
          "base_uri": "https://localhost:8080/",
          "height": 535
        },
        "outputId": "d12e1891-b48d-46ec-da0f-76512de91182"
      },
      "source": [
        "model.fit(X_train, Y_train, batch_size=32, nb_epoch=10, verbose=1)\n",
        "print(datetime.now())"
      ],
      "execution_count": 87,
      "outputs": [
        {
          "output_type": "stream",
          "text": [
            "/usr/local/lib/python3.6/dist-packages/ipykernel_launcher.py:1: UserWarning: The `nb_epoch` argument in `fit` has been renamed `epochs`.\n",
            "  \"\"\"Entry point for launching an IPython kernel.\n",
            "W0619 16:38:02.231864 140700198365056 deprecation.py:323] From /usr/local/lib/python3.6/dist-packages/tensorflow/python/ops/math_grad.py:1250: add_dispatch_support.<locals>.wrapper (from tensorflow.python.ops.array_ops) is deprecated and will be removed in a future version.\n",
            "Instructions for updating:\n",
            "Use tf.where in 2.0, which has the same broadcast rule as np.where\n",
            "W0619 16:38:02.354671 140700198365056 deprecation_wrapper.py:119] From /usr/local/lib/python3.6/dist-packages/keras/backend/tensorflow_backend.py:986: The name tf.assign_add is deprecated. Please use tf.compat.v1.assign_add instead.\n",
            "\n"
          ],
          "name": "stderr"
        },
        {
          "output_type": "stream",
          "text": [
            "Epoch 1/10\n",
            "60000/60000 [==============================] - 23s 378us/step - loss: 0.5471 - acc: 0.8531\n",
            "Epoch 2/10\n",
            "60000/60000 [==============================] - 14s 235us/step - loss: 0.2563 - acc: 0.8979\n",
            "Epoch 3/10\n",
            "60000/60000 [==============================] - 14s 235us/step - loss: 0.2426 - acc: 0.9008\n",
            "Epoch 4/10\n",
            "60000/60000 [==============================] - 14s 235us/step - loss: 0.2355 - acc: 0.9025\n",
            "Epoch 5/10\n",
            "60000/60000 [==============================] - 14s 235us/step - loss: 0.2306 - acc: 0.9034\n",
            "Epoch 6/10\n",
            "60000/60000 [==============================] - 14s 232us/step - loss: 0.2274 - acc: 0.9045\n",
            "Epoch 7/10\n",
            "60000/60000 [==============================] - 14s 232us/step - loss: 0.2244 - acc: 0.9051\n",
            "Epoch 8/10\n",
            "60000/60000 [==============================] - 14s 236us/step - loss: 0.2225 - acc: 0.9058\n",
            "Epoch 9/10\n",
            "60000/60000 [==============================] - 14s 229us/step - loss: 0.2204 - acc: 0.9065\n",
            "Epoch 10/10\n",
            "60000/60000 [==============================] - 14s 229us/step - loss: 0.2202 - acc: 0.9065\n",
            "2019-06-19 16:40:31.418895\n"
          ],
          "name": "stdout"
        }
      ]
    },
    {
      "cell_type": "code",
      "metadata": {
        "id": "AtsH-lLk-eLb",
        "colab_type": "code",
        "colab": {
          "base_uri": "https://localhost:8080/",
          "height": 35
        },
        "outputId": "6e90febe-85f8-430d-9002-b48584a351e9"
      },
      "source": [
        "score = model.evaluate(X_test, Y_test, verbose=0)\n",
        "print(datetime.now())"
      ],
      "execution_count": 89,
      "outputs": [
        {
          "output_type": "stream",
          "text": [
            "2019-06-19 16:40:47.803372\n"
          ],
          "name": "stdout"
        }
      ]
    },
    {
      "cell_type": "code",
      "metadata": {
        "id": "mkX8JMv79q9r",
        "colab_type": "code",
        "colab": {
          "base_uri": "https://localhost:8080/",
          "height": 52
        },
        "outputId": "c55bc315-f9bf-4fa7-944f-8318c317d6d2"
      },
      "source": [
        "print(score)\n",
        "print(datetime.now())"
      ],
      "execution_count": 91,
      "outputs": [
        {
          "output_type": "stream",
          "text": [
            "[0.23266740307159775, 0.905]\n",
            "2019-06-19 16:41:00.708406\n"
          ],
          "name": "stdout"
        }
      ]
    }
  ]
}