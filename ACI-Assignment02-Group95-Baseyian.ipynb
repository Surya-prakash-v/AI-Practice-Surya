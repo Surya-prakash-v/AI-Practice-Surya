{
 "cells": [
  {
   "cell_type": "code",
   "execution_count": 1,
   "metadata": {},
   "outputs": [
    {
     "name": "stdout",
     "output_type": "stream",
     "text": [
      "Requirement already satisfied: pomegranate in c:\\softwares\\anaconda\\envs\\aci-assignment-group95-bayesian\\lib\\site-packages (0.14.0)\n",
      "Requirement already satisfied: scipy>=0.17.0 in c:\\softwares\\anaconda\\envs\\aci-assignment-group95-bayesian\\lib\\site-packages (from pomegranate) (1.6.0)\n",
      "Requirement already satisfied: numpy>=1.8.0 in c:\\softwares\\anaconda\\envs\\aci-assignment-group95-bayesian\\lib\\site-packages (from pomegranate) (1.19.2)\n",
      "Requirement already satisfied: joblib>=0.9.0b4 in c:\\softwares\\anaconda\\envs\\aci-assignment-group95-bayesian\\lib\\site-packages (from pomegranate) (1.0.0)\n",
      "Requirement already satisfied: pyyaml in c:\\softwares\\anaconda\\envs\\aci-assignment-group95-bayesian\\lib\\site-packages (from pomegranate) (5.4.1)\n",
      "Requirement already satisfied: networkx>=2.0 in c:\\softwares\\anaconda\\envs\\aci-assignment-group95-bayesian\\lib\\site-packages (from pomegranate) (2.5)\n",
      "Requirement already satisfied: decorator>=4.3.0 in c:\\softwares\\anaconda\\envs\\aci-assignment-group95-bayesian\\lib\\site-packages (from networkx>=2.0->pomegranate) (4.4.2)\n",
      "Note: you may need to restart the kernel to use updated packages.\n"
     ]
    }
   ],
   "source": [
    "pip install pomegranate"
   ]
  },
  {
   "cell_type": "markdown",
   "metadata": {},
   "source": [
    "#### Import all required libraries"
   ]
  },
  {
   "cell_type": "code",
   "execution_count": 2,
   "metadata": {},
   "outputs": [],
   "source": [
    "\n",
    "%matplotlib inline\n",
    "import matplotlib.pyplot as plt\n",
    "import seaborn; seaborn.set_style('whitegrid')\n",
    "import numpy as np\n",
    "import pandas as pd\n",
    "from pomegranate import *"
   ]
  },
  {
   "cell_type": "markdown",
   "metadata": {},
   "source": [
    "### Reading data from FIle and pre-processing"
   ]
  },
  {
   "cell_type": "code",
   "execution_count": 3,
   "metadata": {},
   "outputs": [
    {
     "data": {
      "text/plain": [
       "(85, 8)"
      ]
     },
     "execution_count": 3,
     "metadata": {},
     "output_type": "execute_result"
    }
   ],
   "source": [
    "stats = pd.read_csv('India_Test_Stats.csv')\n",
    "stats.head(6)\n",
    "datap = stats.drop(stats.loc[:,stats.columns.str.match(\"Unnamed\")], axis=1)\n",
    "datap = datap[datap.Ashwin.notnull()]\n",
    "datap.shape"
   ]
  },
  {
   "cell_type": "code",
   "execution_count": 4,
   "metadata": {},
   "outputs": [
    {
     "data": {
      "text/html": [
       "<div>\n",
       "<style scoped>\n",
       "    .dataframe tbody tr th:only-of-type {\n",
       "        vertical-align: middle;\n",
       "    }\n",
       "\n",
       "    .dataframe tbody tr th {\n",
       "        vertical-align: top;\n",
       "    }\n",
       "\n",
       "    .dataframe thead th {\n",
       "        text-align: right;\n",
       "    }\n",
       "</style>\n",
       "<table border=\"1\" class=\"dataframe\">\n",
       "  <thead>\n",
       "    <tr style=\"text-align: right;\">\n",
       "      <th></th>\n",
       "      <th>Ashwin</th>\n",
       "      <th>Result</th>\n",
       "      <th>Margin</th>\n",
       "      <th>Toss</th>\n",
       "      <th>Bat</th>\n",
       "      <th>Opposition</th>\n",
       "      <th>Location</th>\n",
       "    </tr>\n",
       "  </thead>\n",
       "  <tbody>\n",
       "    <tr>\n",
       "      <th>0</th>\n",
       "      <td>Y</td>\n",
       "      <td>won</td>\n",
       "      <td>5 wickets</td>\n",
       "      <td>lost</td>\n",
       "      <td>2nd</td>\n",
       "      <td>v West Indies</td>\n",
       "      <td>Home</td>\n",
       "    </tr>\n",
       "    <tr>\n",
       "      <th>1</th>\n",
       "      <td>Y</td>\n",
       "      <td>won</td>\n",
       "      <td>inns &amp; 15 runs</td>\n",
       "      <td>won</td>\n",
       "      <td>1st</td>\n",
       "      <td>v West Indies</td>\n",
       "      <td>Home</td>\n",
       "    </tr>\n",
       "    <tr>\n",
       "      <th>2</th>\n",
       "      <td>Y</td>\n",
       "      <td>draw</td>\n",
       "      <td>-</td>\n",
       "      <td>lost</td>\n",
       "      <td>2nd</td>\n",
       "      <td>v West Indies</td>\n",
       "      <td>Home</td>\n",
       "    </tr>\n",
       "    <tr>\n",
       "      <th>3</th>\n",
       "      <td>Y</td>\n",
       "      <td>lost</td>\n",
       "      <td>122 runs</td>\n",
       "      <td>lost</td>\n",
       "      <td>2nd</td>\n",
       "      <td>v Australia</td>\n",
       "      <td>Away</td>\n",
       "    </tr>\n",
       "    <tr>\n",
       "      <th>4</th>\n",
       "      <td>Y</td>\n",
       "      <td>lost</td>\n",
       "      <td>inns &amp; 68 runs</td>\n",
       "      <td>won</td>\n",
       "      <td>1st</td>\n",
       "      <td>v Australia</td>\n",
       "      <td>Away</td>\n",
       "    </tr>\n",
       "  </tbody>\n",
       "</table>\n",
       "</div>"
      ],
      "text/plain": [
       "  Ashwin Result          Margin  Toss  Bat     Opposition Location\n",
       "0      Y    won       5 wickets  lost  2nd  v West Indies     Home\n",
       "1      Y    won  inns & 15 runs   won  1st  v West Indies     Home\n",
       "2      Y   draw               -  lost  2nd  v West Indies     Home\n",
       "3      Y   lost        122 runs  lost  2nd    v Australia     Away\n",
       "4      Y   lost  inns & 68 runs   won  1st    v Australia     Away"
      ]
     },
     "execution_count": 4,
     "metadata": {},
     "output_type": "execute_result"
    }
   ],
   "source": [
    "#Preprocessing - dropping Start Date as it doesn't impact any results or not used on any calculations\n",
    "dataf = datap.drop(columns=['Start Date'], axis=1)\n",
    "dataf.head()"
   ]
  },
  {
   "cell_type": "markdown",
   "metadata": {},
   "source": [
    "####  1) Function to calculate Prior Probability"
   ]
  },
  {
   "cell_type": "code",
   "execution_count": 5,
   "metadata": {},
   "outputs": [],
   "source": [
    "def getProbability(col,domain):\n",
    "    dict = {\"testk\":\"testvalue\"}\n",
    "    for prop in domain:\n",
    "        d = dataf[col] == prop\n",
    "        dict[prop] = len(dataf[d])/len(d)\n",
    "    dict.pop(\"testk\")\n",
    "    return dict"
   ]
  },
  {
   "cell_type": "code",
   "execution_count": 6,
   "metadata": {},
   "outputs": [
    {
     "name": "stdout",
     "output_type": "stream",
     "text": [
      "{'Home': 0.5058823529411764, 'Away': 0.49411764705882355}\n",
      "{'won': 0.5529411764705883, 'draw': 0.18823529411764706, 'lost': 0.25882352941176473}\n",
      "{'N': 0.17647058823529413, 'Y': 0.8235294117647058}\n",
      "{'won': 0.47058823529411764, 'lost': 0.5294117647058824}\n",
      "{'1st': 0.5411764705882353, '2nd': 0.4588235294117647}\n"
     ]
    }
   ],
   "source": [
    "# The test location domain distribution\n",
    "location = getProbability('Location',{'Home','Away'})\n",
    "\n",
    "result = getProbability('Result',{'won','draw','lost'})\n",
    "#Define a domain - Ashwin Playing\n",
    "ashwin = getProbability('Ashwin',{'Y','N'})\n",
    "\n",
    "# Define a domain - Toss\n",
    "toss = getProbability('Toss',{'lost','won'})\n",
    "\n",
    "# Define a domain - Batting\n",
    "bat = getProbability('Bat',{'1st','2nd'})\n",
    "\n",
    "print(str(location))\n",
    "print(str(result))\n",
    "print(str(ashwin))\n",
    "print(str(toss))\n",
    "print(str(bat))"
   ]
  },
  {
   "cell_type": "code",
   "execution_count": 7,
   "metadata": {},
   "outputs": [
    {
     "data": {
      "text/html": [
       "<div>\n",
       "<style scoped>\n",
       "    .dataframe tbody tr th:only-of-type {\n",
       "        vertical-align: middle;\n",
       "    }\n",
       "\n",
       "    .dataframe tbody tr th {\n",
       "        vertical-align: top;\n",
       "    }\n",
       "\n",
       "    .dataframe thead th {\n",
       "        text-align: right;\n",
       "    }\n",
       "</style>\n",
       "<table border=\"1\" class=\"dataframe\">\n",
       "  <thead>\n",
       "    <tr style=\"text-align: right;\">\n",
       "      <th></th>\n",
       "      <th>Ashwin</th>\n",
       "      <th>Result</th>\n",
       "      <th>Margin</th>\n",
       "      <th>Toss</th>\n",
       "      <th>Bat</th>\n",
       "      <th>Opposition</th>\n",
       "      <th>Location</th>\n",
       "      <th>Count</th>\n",
       "    </tr>\n",
       "  </thead>\n",
       "  <tbody>\n",
       "    <tr>\n",
       "      <th>0</th>\n",
       "      <td>Y</td>\n",
       "      <td>won</td>\n",
       "      <td>5 wickets</td>\n",
       "      <td>lost</td>\n",
       "      <td>2nd</td>\n",
       "      <td>v West Indies</td>\n",
       "      <td>Home</td>\n",
       "      <td>1</td>\n",
       "    </tr>\n",
       "    <tr>\n",
       "      <th>1</th>\n",
       "      <td>Y</td>\n",
       "      <td>won</td>\n",
       "      <td>inns &amp; 15 runs</td>\n",
       "      <td>won</td>\n",
       "      <td>1st</td>\n",
       "      <td>v West Indies</td>\n",
       "      <td>Home</td>\n",
       "      <td>1</td>\n",
       "    </tr>\n",
       "    <tr>\n",
       "      <th>2</th>\n",
       "      <td>Y</td>\n",
       "      <td>draw</td>\n",
       "      <td>-</td>\n",
       "      <td>lost</td>\n",
       "      <td>2nd</td>\n",
       "      <td>v West Indies</td>\n",
       "      <td>Home</td>\n",
       "      <td>1</td>\n",
       "    </tr>\n",
       "    <tr>\n",
       "      <th>3</th>\n",
       "      <td>Y</td>\n",
       "      <td>lost</td>\n",
       "      <td>122 runs</td>\n",
       "      <td>lost</td>\n",
       "      <td>2nd</td>\n",
       "      <td>v Australia</td>\n",
       "      <td>Away</td>\n",
       "      <td>1</td>\n",
       "    </tr>\n",
       "    <tr>\n",
       "      <th>4</th>\n",
       "      <td>Y</td>\n",
       "      <td>lost</td>\n",
       "      <td>inns &amp; 68 runs</td>\n",
       "      <td>won</td>\n",
       "      <td>1st</td>\n",
       "      <td>v Australia</td>\n",
       "      <td>Away</td>\n",
       "      <td>1</td>\n",
       "    </tr>\n",
       "  </tbody>\n",
       "</table>\n",
       "</div>"
      ],
      "text/plain": [
       "  Ashwin Result          Margin  Toss  Bat     Opposition Location  Count\n",
       "0      Y    won       5 wickets  lost  2nd  v West Indies     Home      1\n",
       "1      Y    won  inns & 15 runs   won  1st  v West Indies     Home      1\n",
       "2      Y   draw               -  lost  2nd  v West Indies     Home      1\n",
       "3      Y   lost        122 runs  lost  2nd    v Australia     Away      1\n",
       "4      Y   lost  inns & 68 runs   won  1st    v Australia     Away      1"
      ]
     },
     "execution_count": 7,
     "metadata": {},
     "output_type": "execute_result"
    }
   ],
   "source": [
    "dataf[\"Count\"] = 1\n",
    "dataf.head()"
   ]
  },
  {
   "cell_type": "code",
   "execution_count": 8,
   "metadata": {},
   "outputs": [
    {
     "data": {
      "text/html": [
       "<div>\n",
       "<style scoped>\n",
       "    .dataframe tbody tr th:only-of-type {\n",
       "        vertical-align: middle;\n",
       "    }\n",
       "\n",
       "    .dataframe tbody tr th {\n",
       "        vertical-align: top;\n",
       "    }\n",
       "\n",
       "    .dataframe thead th {\n",
       "        text-align: right;\n",
       "    }\n",
       "</style>\n",
       "<table border=\"1\" class=\"dataframe\">\n",
       "  <thead>\n",
       "    <tr style=\"text-align: right;\">\n",
       "      <th></th>\n",
       "      <th>Location</th>\n",
       "      <th>Ashwin</th>\n",
       "      <th>Count</th>\n",
       "    </tr>\n",
       "  </thead>\n",
       "  <tbody>\n",
       "    <tr>\n",
       "      <th>0</th>\n",
       "      <td>Home</td>\n",
       "      <td>Y</td>\n",
       "      <td>1</td>\n",
       "    </tr>\n",
       "    <tr>\n",
       "      <th>1</th>\n",
       "      <td>Home</td>\n",
       "      <td>Y</td>\n",
       "      <td>1</td>\n",
       "    </tr>\n",
       "    <tr>\n",
       "      <th>2</th>\n",
       "      <td>Home</td>\n",
       "      <td>Y</td>\n",
       "      <td>1</td>\n",
       "    </tr>\n",
       "    <tr>\n",
       "      <th>3</th>\n",
       "      <td>Away</td>\n",
       "      <td>Y</td>\n",
       "      <td>1</td>\n",
       "    </tr>\n",
       "    <tr>\n",
       "      <th>4</th>\n",
       "      <td>Away</td>\n",
       "      <td>Y</td>\n",
       "      <td>1</td>\n",
       "    </tr>\n",
       "  </tbody>\n",
       "</table>\n",
       "</div>"
      ],
      "text/plain": [
       "  Location Ashwin  Count\n",
       "0     Home      Y      1\n",
       "1     Home      Y      1\n",
       "2     Home      Y      1\n",
       "3     Away      Y      1\n",
       "4     Away      Y      1"
      ]
     },
     "execution_count": 8,
     "metadata": {},
     "output_type": "execute_result"
    }
   ],
   "source": [
    "df = dataf[[\"Location\",\"Ashwin\",\"Count\"]]\n",
    "df.head()"
   ]
  },
  {
   "cell_type": "code",
   "execution_count": 9,
   "metadata": {},
   "outputs": [
    {
     "name": "stdout",
     "output_type": "stream",
     "text": [
      "Ashwin     N   Y\n",
      "Location        \n",
      "Away      15  27\n",
      "Home       0  43\n"
     ]
    }
   ],
   "source": [
    "al = pd.pivot_table(\n",
    "    df, \n",
    "    values='Count', \n",
    "    index=['Location'], \n",
    "    columns=['Ashwin'], \n",
    "    aggfunc=np.size, \n",
    "    fill_value=0\n",
    ")\n",
    "print(al)"
   ]
  },
  {
   "cell_type": "code",
   "execution_count": 10,
   "metadata": {},
   "outputs": [
    {
     "name": "stdout",
     "output_type": "stream",
     "text": [
      "85\n",
      "43\n",
      "42\n",
      "70\n",
      "15\n",
      "0.5058823529411764\n",
      "0.8235294117647058\n",
      "0.5058823529411764\n",
      "0.6142857142857143\n",
      "0.0\n",
      "0.38571428571428573\n",
      "1.0\n"
     ]
    }
   ],
   "source": [
    "# p(a|b) = p(a I b)/p(b)\n",
    "#p(a I b) = p (a and b)/p(all)\n",
    "list(al.query('Location == [\"Home\"]').get('Y'))[0]\n",
    "\n",
    "\n",
    "pall = list(al.query('Location == [\"Home\"]').get('Y'))[0] + list(al.query('Location == [\"Home\"]').get('N'))[0] + list(al.query('Location == [\"Away\"]').get('Y'))[0]+list(al.query('Location == [\"Away\"]').get('N'))[0]\n",
    "print(pall)\n",
    "\n",
    "#p(location=home)\n",
    "h = list(al.query('Location == [\"Home\"]').get('Y'))[0] + list(al.query('Location == [\"Home\"]').get('N'))[0]\n",
    "print(h)\n",
    "away=list(al.query('Location == [\"Away\"]').get('Y'))[0] + list(al.query('Location == [\"Away\"]').get('N'))[0]\n",
    "print(away)\n",
    "aY=list(al.query('Location == [\"Home\"]').get('Y'))[0] + list(al.query('Location == [\"Away\"]').get('Y'))[0]\n",
    "print(aY)\n",
    "aN = list(al.query('Location == [\"Home\"]').get('N'))[0] + list(al.query('Location == [\"Away\"]').get('N'))[0]\n",
    "print(aN)\n",
    "\n",
    "#probability of playing at home\n",
    "ph = h/pall\n",
    "print(ph)\n",
    "\n",
    "paway = away/pall\n",
    "\n",
    "#probability of playing Ashwin = Y\n",
    "paY = aY/pall\n",
    "print(paY)\n",
    "\n",
    "paN = aN/pall\n",
    "\n",
    "#Ph ^ paY\n",
    "hIaY = list(al.query('Location == [\"Home\"]').get('Y'))[0]/pall\n",
    "print(hIaY)\n",
    "\n",
    "#P away ^ paY\n",
    "awayIaY = list(al.query('Location == [\"Away\"]').get('Y'))[0]/pall\n",
    "\n",
    "hIaN = list(al.query('Location == [\"Home\"]').get('N'))[0]/pall\n",
    "awayIaN = list(al.query('Location == [\"Away\"]').get('N'))[0]/pall\n",
    "\n",
    "#P(home/ashwin=Y) = hIaY/paY\n",
    "\n",
    "phaY = hIaY/paY\n",
    "print(phaY)\n",
    "\n",
    "#P(home/ashwin=N) = hIaN/paN\n",
    "phaN = hIaN/paN\n",
    "print(phaN)\n",
    "\n",
    "pawayaY =  awayIaY/paY\n",
    "print(pawayaY)\n",
    "\n",
    "pawayaN = awayIaN/paN\n",
    "print(pawayaN)\n"
   ]
  },
  {
   "cell_type": "markdown",
   "metadata": {},
   "source": [
    "#### Question 2 - Create a function to calculate conditional probability"
   ]
  },
  {
   "cell_type": "code",
   "execution_count": 11,
   "metadata": {},
   "outputs": [],
   "source": [
    "def getPostProbability(cola,domaina, colb, domainb):\n",
    "    dict = {\"testk\":\"testvalue\"}\n",
    "    #p(a|b) = p(a and b)/p(b)\n",
    "    \n",
    "    df = dataf[[cola,colb,\"Count\"]]\n",
    " \n",
    "    pivot = pd.pivot_table(\n",
    "    df, \n",
    "    values='Count', \n",
    "    index=[cola], \n",
    "    columns=[colb], \n",
    "    aggfunc=np.size, \n",
    "    fill_value=0\n",
    ")\n",
    " \n",
    "    print(pivot)\n",
    "    print(\" \")\n",
    "    pall = 0\n",
    "    for idx, row in pivot.iterrows():\n",
    "        for valb in domainb:\n",
    "            pall = pall+row[valb]\n",
    "    print(\"pall: \"+str(pall))\n",
    "    \n",
    "    for idx, row in pivot.iterrows():\n",
    "        idxsum = 0\n",
    "        for valb in domainb:\n",
    "            idxsum =  (idxsum + row[valb])   \n",
    "        idxsum = idxsum/pall\n",
    "        dict[idx] = idxsum \n",
    "        \n",
    "    for valb in domainb:\n",
    "        valsum = 0\n",
    "        for idx, row in pivot.iterrows():\n",
    "            valsum = (valsum + row[valb])\n",
    "        valsum = valsum/pall\n",
    "        dict[valb] = valsum\n",
    "    \n",
    "    intersect = {\"dummyk\":\"dummyvalue\"}           \n",
    "    for idx, row in pivot.iterrows():\n",
    "        for valb in domainb:\n",
    "            intersect[idx+valb] = row[valb]/pall\n",
    "\n",
    "    finaldict = {\"testk\":\"testvalue\"}\n",
    "    for idx, row in pivot.iterrows():\n",
    "        for valb in domainb:\n",
    "            finaldict[idx+\"-\"+valb]=intersect.get(idx+valb)/dict.get(valb)\n",
    "            \n",
    "\n",
    "    finaldict.pop(\"testk\")\n",
    "\n",
    "    lst=[]\n",
    "    for key in finaldict:\n",
    "        entry = key.split(\"-\")\n",
    "        entry.append(finaldict[key])\n",
    "        lst.append(entry)\n",
    "    \n",
    "    return lst"
   ]
  },
  {
   "cell_type": "code",
   "execution_count": 12,
   "metadata": {},
   "outputs": [
    {
     "name": "stdout",
     "output_type": "stream",
     "text": [
      "Ashwin  N   Y\n",
      "Result       \n",
      "draw    3  13\n",
      "lost    7  15\n",
      "won     5  42\n",
      " \n",
      "pall: 85\n",
      "[['draw', 'N', 0.19999999999999998], ['draw', 'Y', 0.18571428571428575], ['lost', 'N', 0.4666666666666666], ['lost', 'Y', 0.2142857142857143], ['won', 'N', 0.3333333333333333], ['won', 'Y', 0.6000000000000001]]\n"
     ]
    }
   ],
   "source": [
    "resultAshwin = getPostProbability('Result',{'won','draw','lost'},'Ashwin',{'Y','N'})\n",
    "\n",
    "print(resultAshwin)\n",
    "\n",
    "\n",
    "for item in resultAshwin:\n",
    "    item.insert(2,'2nd')\n",
    "finalarray = []\n",
    "finalarray.append(resultAshwin)"
   ]
  },
  {
   "cell_type": "markdown",
   "metadata": {},
   "source": [
    "#### 3) pomegranate library to define conditionality between variables to create Bayesian Network "
   ]
  },
  {
   "cell_type": "code",
   "execution_count": 13,
   "metadata": {},
   "outputs": [],
   "source": [
    "#Question3\n",
    "matchresult = DiscreteDistribution({'W':0.33,'L':0.33,'D':0.33})\n",
    "ashwinplaying = DiscreteDistribution({'Y':0.5,'N':0.5})\n",
    "secondbat = DiscreteDistribution({'Y':0.5,'N':0.5})\n",
    "BaysNetwork = ConditionalProbabilityTable([['W', 'Y', 'Y', 0.410256], \n",
    "                                           ['W', 'Y', 'N', 0.565217],\n",
    "                                           ['W', 'N', 'Y', 0.0], \n",
    "                                           ['W', 'N', 'N', 0.108696],\n",
    "                                           ['L', 'Y', 'Y', 0.205128], \n",
    "                                           ['L', 'Y', 'N', 0.152174],\n",
    "                                           ['L', 'N', 'Y', 0.128205], \n",
    "                                           ['L', 'N', 'N', 0.043478],\n",
    "                                           ['D', 'Y', 'Y', 0.230769], \n",
    "                                           ['D', 'Y', 'N', 0.086957],\n",
    "                                           ['D', 'N', 'Y', 0.025647], \n",
    "                                           ['D', 'N', 'N', 0.043478],\n",
    "                                          ],[matchresult, ashwinplaying])"
   ]
  },
  {
   "cell_type": "code",
   "execution_count": 14,
   "metadata": {},
   "outputs": [],
   "source": [
    "# State objects hold both the distribution, and a high level name\n",
    "bat = State(secondbat, name=\"bat\")\n",
    "ashwin = State(ashwinplaying, name=\"ashwin\")\n",
    "result = State(matchresult, name=\"result\")"
   ]
  },
  {
   "cell_type": "code",
   "execution_count": 15,
   "metadata": {},
   "outputs": [],
   "source": [
    "# Create the Bayesian network object with a useful name\n",
    "bayesianmodel = BayesianNetwork(\"Assignment 2 - Spinning the Bayes Net\")"
   ]
  },
  {
   "cell_type": "code",
   "execution_count": 16,
   "metadata": {},
   "outputs": [],
   "source": [
    "# Add the three states to the network \n",
    "#model.add_states(result, ashwin, bat)\n",
    "bayesianmodel.add_nodes(result, ashwin, bat)"
   ]
  },
  {
   "cell_type": "code",
   "execution_count": 17,
   "metadata": {},
   "outputs": [],
   "source": [
    "# Add edges which represent conditional dependencies, where the second node is \n",
    "# conditionally dependent on the first node (Monty is dependent on both guest and prize)\n",
    "bayesianmodel.add_edge(bat, result)\n",
    "bayesianmodel.add_edge(ashwin, result)"
   ]
  },
  {
   "cell_type": "code",
   "execution_count": 18,
   "metadata": {},
   "outputs": [],
   "source": [
    "bayesianmodel.bake()"
   ]
  },
  {
   "cell_type": "markdown",
   "metadata": {},
   "source": [
    "####  4) Use the Bayesian Network model created in (3) to calculate the probability of:"
   ]
  },
  {
   "cell_type": "code",
   "execution_count": 19,
   "metadata": {},
   "outputs": [
    {
     "data": {
      "text/plain": [
       "0.08249999999999999"
      ]
     },
     "execution_count": 19,
     "metadata": {},
     "output_type": "execute_result"
    }
   ],
   "source": [
    "# a. India winning, Ashwin playing, batting 2ndv\n",
    "bayesianmodel.probability([['W', 'Y', 'Y']])"
   ]
  },
  {
   "cell_type": "code",
   "execution_count": 20,
   "metadata": {},
   "outputs": [
    {
     "data": {
      "text/plain": [
       "0.08249999999999999"
      ]
     },
     "execution_count": 20,
     "metadata": {},
     "output_type": "execute_result"
    }
   ],
   "source": [
    "#b. India winning,  Ashwin not playing, batting 2nd\n",
    "bayesianmodel.probability([['W', 'N', 'Y']])"
   ]
  },
  {
   "cell_type": "code",
   "execution_count": 21,
   "metadata": {},
   "outputs": [
    {
     "data": {
      "text/plain": [
       "0.08249999999999999"
      ]
     },
     "execution_count": 21,
     "metadata": {},
     "output_type": "execute_result"
    }
   ],
   "source": [
    "#c. India losing,  Ashwin playing, batting 2nd\n",
    "bayesianmodel.probability([['L', 'Y', 'Y']])"
   ]
  },
  {
   "cell_type": "code",
   "execution_count": 22,
   "metadata": {},
   "outputs": [
    {
     "data": {
      "text/plain": [
       "0.08249999999999999"
      ]
     },
     "execution_count": 22,
     "metadata": {},
     "output_type": "execute_result"
    }
   ],
   "source": [
    "#d. India losing,  Ashwin not playing, batting 2nd\n",
    "bayesianmodel.probability([['L', 'N', 'Y']])"
   ]
  },
  {
   "cell_type": "code",
   "execution_count": null,
   "metadata": {},
   "outputs": [],
   "source": []
  }
 ],
 "metadata": {
  "kernelspec": {
   "display_name": "Python 3",
   "language": "python",
   "name": "python3"
  },
  "language_info": {
   "codemirror_mode": {
    "name": "ipython",
    "version": 3
   },
   "file_extension": ".py",
   "mimetype": "text/x-python",
   "name": "python",
   "nbconvert_exporter": "python",
   "pygments_lexer": "ipython3",
   "version": "3.8.5"
  }
 },
 "nbformat": 4,
 "nbformat_minor": 2
}
