{
  "nbformat": 4,
  "nbformat_minor": 0,
  "metadata": {
    "colab": {
      "name": "EVA_Assignment5.ipynb",
      "version": "0.3.2",
      "provenance": [],
      "collapsed_sections": []
    },
    "kernelspec": {
      "name": "python3",
      "display_name": "Python 3"
    },
    "accelerator": "GPU"
  },
  "cells": [
    {
      "cell_type": "markdown",
      "metadata": {
        "id": "aNyZv-Ec52ot",
        "colab_type": "text"
      },
      "source": [
        "# **Import Libraries and modules**"
      ]
    },
    {
      "cell_type": "markdown",
      "metadata": {
        "id": "WcrxKxFWS5qu",
        "colab_type": "text"
      },
      "source": [
        "###Third Revision:</br>\n",
        "###Updates:</br>\n",
        "* Introducing scheduled Learning rate</br>\n",
        "* Increasing batch size to 128</br>\n",
        "* Added one convolution layer at image size 7x7, so that the biggest kernal used is reduced to 5x5</br>\n",
        "###Summary:</br>\n",
        "Parameters reduced to 15,590</br>\n",
        "###Accuracy increased to 99.42</br></br>\n",
        "No.of Epochs 30</br>\n"
      ]
    },
    {
      "cell_type": "code",
      "metadata": {
        "id": "3m3w1Cw49Zkt",
        "colab_type": "code",
        "colab": {}
      },
      "source": [
        "# https://keras.io/\n",
        "!pip install -q keras\n",
        "import keras"
      ],
      "execution_count": 0,
      "outputs": []
    },
    {
      "cell_type": "code",
      "metadata": {
        "id": "Eso6UHE080D4",
        "colab_type": "code",
        "colab": {}
      },
      "source": [
        "import numpy as np\n",
        "\n",
        "from keras.models import Sequential\n",
        "from keras.layers import Activation, Flatten, Add\n",
        "from keras.layers import Convolution2D, MaxPooling2D\n",
        "from keras.utils import np_utils\n",
        "\n",
        "from keras.datasets import mnist"
      ],
      "execution_count": 0,
      "outputs": []
    },
    {
      "cell_type": "markdown",
      "metadata": {
        "id": "zByEi95J86RD",
        "colab_type": "text"
      },
      "source": [
        "### Load pre-shuffled MNIST data into train and test sets"
      ]
    },
    {
      "cell_type": "code",
      "metadata": {
        "id": "7eRM0QWN83PV",
        "colab_type": "code",
        "colab": {}
      },
      "source": [
        "(X_train, y_train), (X_test, y_test) = mnist.load_data()"
      ],
      "execution_count": 0,
      "outputs": []
    },
    {
      "cell_type": "code",
      "metadata": {
        "id": "4a4Be72j8-ZC",
        "colab_type": "code",
        "outputId": "d0745baa-0211-4fc0-8eda-03b534de0287",
        "colab": {
          "base_uri": "https://localhost:8080/",
          "height": 304
        }
      },
      "source": [
        "print (X_train.shape)\n",
        "from matplotlib import pyplot as plt\n",
        "%matplotlib inline\n",
        "plt.imshow(X_train[0])"
      ],
      "execution_count": 30,
      "outputs": [
        {
          "output_type": "stream",
          "text": [
            "(60000, 28, 28)\n"
          ],
          "name": "stdout"
        },
        {
          "output_type": "execute_result",
          "data": {
            "text/plain": [
              "<matplotlib.image.AxesImage at 0x7f2530fe8c88>"
            ]
          },
          "metadata": {
            "tags": []
          },
          "execution_count": 30
        },
        {
          "output_type": "display_data",
          "data": {
            "image/png": "[encoded data removed]",
            "text/plain": [
              "<Figure size 432x288 with 1 Axes>"
            ]
          },
          "metadata": {
            "tags": []
          }
        }
      ]
    },
    {
      "cell_type": "code",
      "metadata": {
        "id": "dkmprriw9AnZ",
        "colab_type": "code",
        "colab": {}
      },
      "source": [
        "X_train = X_train.reshape(X_train.shape[0], 28, 28,1)\n",
        "X_test = X_test.reshape(X_test.shape[0], 28, 28,1)"
      ],
      "execution_count": 0,
      "outputs": []
    },
    {
      "cell_type": "code",
      "metadata": {
        "id": "X2m4YS4E9CRh",
        "colab_type": "code",
        "colab": {}
      },
      "source": [
        "X_train = X_train.astype('float32')\n",
        "X_test = X_test.astype('float32')\n",
        "X_train /= 255\n",
        "X_test /= 255"
      ],
      "execution_count": 0,
      "outputs": []
    },
    {
      "cell_type": "code",
      "metadata": {
        "id": "0Mn0vAYD9DvB",
        "colab_type": "code",
        "outputId": "739636ef-3544-4fce-c1b7-cd153d8d1e37",
        "colab": {
          "base_uri": "https://localhost:8080/",
          "height": 35
        }
      },
      "source": [
        "y_train[:10]"
      ],
      "execution_count": 33,
      "outputs": [
        {
          "output_type": "execute_result",
          "data": {
            "text/plain": [
              "array([5, 0, 4, 1, 9, 2, 1, 3, 1, 4], dtype=uint8)"
            ]
          },
          "metadata": {
            "tags": []
          },
          "execution_count": 33
        }
      ]
    },
    {
      "cell_type": "code",
      "metadata": {
        "id": "ZG8JiXR39FHC",
        "colab_type": "code",
        "colab": {}
      },
      "source": [
        "# Convert 1-dimensional class arrays to 10-dimensional class matrices\n",
        "Y_train = np_utils.to_categorical(y_train, 10)\n",
        "Y_test = np_utils.to_categorical(y_test, 10)"
      ],
      "execution_count": 0,
      "outputs": []
    },
    {
      "cell_type": "code",
      "metadata": {
        "id": "fYlFRvKS9HMB",
        "colab_type": "code",
        "outputId": "e6d48e1d-3e19-455b-d4f9-e30224437dda",
        "colab": {
          "base_uri": "https://localhost:8080/",
          "height": 195
        }
      },
      "source": [
        "Y_train[:10]"
      ],
      "execution_count": 35,
      "outputs": [
        {
          "output_type": "execute_result",
          "data": {
            "text/plain": [
              "array([[0., 0., 0., 0., 0., 1., 0., 0., 0., 0.],\n",
              "       [1., 0., 0., 0., 0., 0., 0., 0., 0., 0.],\n",
              "       [0., 0., 0., 0., 1., 0., 0., 0., 0., 0.],\n",
              "       [0., 1., 0., 0., 0., 0., 0., 0., 0., 0.],\n",
              "       [0., 0., 0., 0., 0., 0., 0., 0., 0., 1.],\n",
              "       [0., 0., 1., 0., 0., 0., 0., 0., 0., 0.],\n",
              "       [0., 1., 0., 0., 0., 0., 0., 0., 0., 0.],\n",
              "       [0., 0., 0., 1., 0., 0., 0., 0., 0., 0.],\n",
              "       [0., 1., 0., 0., 0., 0., 0., 0., 0., 0.],\n",
              "       [0., 0., 0., 0., 1., 0., 0., 0., 0., 0.]], dtype=float32)"
            ]
          },
          "metadata": {
            "tags": []
          },
          "execution_count": 35
        }
      ]
    },
    {
      "cell_type": "code",
      "metadata": {
        "id": "Tl115I2uKze8",
        "colab_type": "code",
        "outputId": "de319699-1733-4a8f-ac0c-80938d136807",
        "colab": {
          "base_uri": "https://localhost:8080/",
          "height": 72
        }
      },
      "source": [
        "from keras.preprocessing.image import ImageDataGenerator\n",
        "\n",
        "datagen = ImageDataGenerator(featurewise_std_normalization=True)\n",
        "datagen.fit(X_train)\n",
        "iterator = datagen.flow(X_train, Y_train, batch_size=32, shuffle=False)"
      ],
      "execution_count": 36,
      "outputs": [
        {
          "output_type": "stream",
          "text": [
            "/usr/local/lib/python3.6/dist-packages/keras_preprocessing/image/image_data_generator.py:348: UserWarning: This ImageDataGenerator specifies `featurewise_std_normalization`, which overrides setting of `featurewise_center`.\n",
            "  warnings.warn('This ImageDataGenerator specifies '\n"
          ],
          "name": "stderr"
        }
      ]
    },
    {
      "cell_type": "code",
      "metadata": {
        "id": "osKqT73Q9JJB",
        "colab_type": "code",
        "outputId": "2034468f-16dc-40da-8a35-c27963c3aacb",
        "colab": {
          "base_uri": "https://localhost:8080/",
          "height": 1000
        }
      },
      "source": [
        "from keras.layers import Activation, MaxPooling2D,BatchNormalization,Dropout,ReLU\n",
        "from keras.optimizers import Adam\n",
        "\n",
        "model = Sequential() \n",
        "\n",
        "model.add(Convolution2D(10, 3, 3, input_shape=(28,28,1),use_bias=False,name='layer1'))#......26......rf3....\n",
        "model.add(BatchNormalization())\n",
        "model.add(ReLU())\n",
        "model.add(Dropout(0.25))\n",
        "\n",
        "model.add(Convolution2D(16, 3, 3,use_bias=False,name='layer2',kernel_regularizer=keras.regularizers.l2(0.01)))#......24......rf5....\n",
        "model.add(BatchNormalization())\n",
        "model.add(ReLU())\n",
        "model.add(Dropout(0.25))\n",
        "\n",
        "model.add(MaxPooling2D(pool_size=(2, 2)))\n",
        "model.add(Convolution2D(10, 1 ,1, use_bias=False,name='layer5',kernel_regularizer=keras.regularizers.l2(0.01)))#......12......rf14....\n",
        "model.add(ReLU())\n",
        "\n",
        "model.add(Convolution2D(16, 3, 3, use_bias=False,name='layer6',kernel_regularizer=keras.regularizers.l2(0.01)))#......8......rf16....\n",
        "model.add(BatchNormalization())\n",
        "model.add(ReLU())\n",
        "model.add(Dropout(0.25))\n",
        "\n",
        "model.add(Convolution2D(16, 3, 3, use_bias=False,name='layer7',kernel_regularizer=keras.regularizers.l2(0.01)))#......6......rf18....\n",
        "model.add(BatchNormalization())\n",
        "model.add(ReLU())\n",
        "model.add(Dropout(0.25))\n",
        "\n",
        "model.add(Convolution2D(16, 3, 3, use_bias=False,name='layer8',kernel_regularizer=keras.regularizers.l2(0.01)))#......4......rf18....\n",
        "model.add(BatchNormalization())\n",
        "model.add(ReLU())\n",
        "model.add(Dropout(0.25))\n",
        "\n",
        "model.add(Convolution2D(16, 3, 3, use_bias=False,name='final',kernel_regularizer=keras.regularizers.l2(0.01)))\n",
        "model.add(ReLU())\n",
        "model.add(Convolution2D(10, 4, 4,use_bias=False,name='layer9'))\n",
        "\n",
        "model.add(Flatten())\n",
        "model.add(Activation('softmax'))\n",
        "model.summary()"
      ],
      "execution_count": 37,
      "outputs": [
        {
          "output_type": "stream",
          "text": [
            "/usr/local/lib/python3.6/dist-packages/ipykernel_launcher.py:6: UserWarning: Update your `Conv2D` call to the Keras 2 API: `Conv2D(10, (3, 3), input_shape=(28, 28, 1..., use_bias=False, name=\"layer1\")`\n",
            "  \n",
            "/usr/local/lib/python3.6/dist-packages/ipykernel_launcher.py:11: UserWarning: Update your `Conv2D` call to the Keras 2 API: `Conv2D(16, (3, 3), use_bias=False, name=\"layer2\", kernel_regularizer=<keras.reg...)`\n",
            "  # This is added back by InteractiveShellApp.init_path()\n",
            "/usr/local/lib/python3.6/dist-packages/ipykernel_launcher.py:17: UserWarning: Update your `Conv2D` call to the Keras 2 API: `Conv2D(10, (1, 1), use_bias=False, name=\"layer5\", kernel_regularizer=<keras.reg...)`\n",
            "/usr/local/lib/python3.6/dist-packages/ipykernel_launcher.py:20: UserWarning: Update your `Conv2D` call to the Keras 2 API: `Conv2D(16, (3, 3), use_bias=False, name=\"layer6\", kernel_regularizer=<keras.reg...)`\n",
            "/usr/local/lib/python3.6/dist-packages/ipykernel_launcher.py:25: UserWarning: Update your `Conv2D` call to the Keras 2 API: `Conv2D(16, (3, 3), use_bias=False, name=\"layer7\", kernel_regularizer=<keras.reg...)`\n"
          ],
          "name": "stderr"
        },
        {
          "output_type": "stream",
          "text": [
            "_________________________________________________________________\n",
            "Layer (type)                 Output Shape              Param #   \n",
            "=================================================================\n",
            "layer1 (Conv2D)              (None, 26, 26, 10)        90        \n",
            "_________________________________________________________________\n",
            "batch_normalization_11 (Batc (None, 26, 26, 10)        40        \n",
            "_________________________________________________________________\n",
            "re_lu_16 (ReLU)              (None, 26, 26, 10)        0         \n",
            "_________________________________________________________________\n",
            "dropout_11 (Dropout)         (None, 26, 26, 10)        0         \n",
            "_________________________________________________________________\n",
            "layer2 (Conv2D)              (None, 24, 24, 16)        1440      \n",
            "_________________________________________________________________\n",
            "batch_normalization_12 (Batc (None, 24, 24, 16)        64        \n",
            "_________________________________________________________________\n",
            "re_lu_17 (ReLU)              (None, 24, 24, 16)        0         \n",
            "_________________________________________________________________\n",
            "dropout_12 (Dropout)         (None, 24, 24, 16)        0         \n",
            "_________________________________________________________________\n",
            "max_pooling2d_3 (MaxPooling2 (None, 12, 12, 16)        0         \n",
            "_________________________________________________________________\n",
            "layer5 (Conv2D)              (None, 12, 12, 10)        160       \n",
            "_________________________________________________________________\n",
            "re_lu_18 (ReLU)              (None, 12, 12, 10)        0         \n",
            "_________________________________________________________________\n",
            "layer6 (Conv2D)              (None, 10, 10, 16)        1440      \n",
            "_________________________________________________________________\n",
            "batch_normalization_13 (Batc (None, 10, 10, 16)        64        \n",
            "_________________________________________________________________\n",
            "re_lu_19 (ReLU)              (None, 10, 10, 16)        0         \n",
            "_________________________________________________________________\n",
            "dropout_13 (Dropout)         (None, 10, 10, 16)        0         \n",
            "_________________________________________________________________\n",
            "layer7 (Conv2D)              (None, 8, 8, 16)          2304      \n",
            "_________________________________________________________________\n",
            "batch_normalization_14 (Batc (None, 8, 8, 16)          64        \n",
            "_________________________________________________________________\n",
            "re_lu_20 (ReLU)              (None, 8, 8, 16)          0         \n",
            "_________________________________________________________________\n",
            "dropout_14 (Dropout)         (None, 8, 8, 16)          0         \n",
            "_________________________________________________________________\n",
            "layer8 (Conv2D)              (None, 6, 6, 16)          2304      \n",
            "_________________________________________________________________\n",
            "batch_normalization_15 (Batc (None, 6, 6, 16)          64        \n",
            "_________________________________________________________________\n",
            "re_lu_21 (ReLU)              (None, 6, 6, 16)          0         \n",
            "_________________________________________________________________\n",
            "dropout_15 (Dropout)         (None, 6, 6, 16)          0         \n",
            "_________________________________________________________________\n",
            "final (Conv2D)               (None, 4, 4, 16)          2304      \n",
            "_________________________________________________________________\n",
            "re_lu_22 (ReLU)              (None, 4, 4, 16)          0         \n",
            "_________________________________________________________________\n",
            "layer9 (Conv2D)              (None, 1, 1, 10)          2560      \n",
            "_________________________________________________________________\n",
            "flatten_3 (Flatten)          (None, 10)                0         \n",
            "_________________________________________________________________\n",
            "activation_3 (Activation)    (None, 10)                0         \n",
            "=================================================================\n",
            "Total params: 12,898\n",
            "Trainable params: 12,750\n",
            "Non-trainable params: 148\n",
            "_________________________________________________________________\n"
          ],
          "name": "stdout"
        },
        {
          "output_type": "stream",
          "text": [
            "/usr/local/lib/python3.6/dist-packages/ipykernel_launcher.py:30: UserWarning: Update your `Conv2D` call to the Keras 2 API: `Conv2D(16, (3, 3), use_bias=False, name=\"layer8\", kernel_regularizer=<keras.reg...)`\n",
            "/usr/local/lib/python3.6/dist-packages/ipykernel_launcher.py:35: UserWarning: Update your `Conv2D` call to the Keras 2 API: `Conv2D(16, (3, 3), use_bias=False, name=\"final\", kernel_regularizer=<keras.reg...)`\n",
            "/usr/local/lib/python3.6/dist-packages/ipykernel_launcher.py:37: UserWarning: Update your `Conv2D` call to the Keras 2 API: `Conv2D(10, (4, 4), use_bias=False, name=\"layer9\")`\n"
          ],
          "name": "stderr"
        }
      ]
    },
    {
      "cell_type": "code",
      "metadata": {
        "id": "Zp6SuGrL9M3h",
        "colab_type": "code",
        "colab": {}
      },
      "source": [
        "from keras.optimizers import Adam\n",
        "from keras.callbacks import LearningRateScheduler\n",
        "def scheduler(epoch, lr):\n",
        "  return round(0.003 * 1/(1 + 0.319 * epoch), 10)\n",
        "\n",
        "model.compile(loss='categorical_crossentropy',\n",
        "             optimizer=Adam(lr=0.003),\n",
        "             metrics=['accuracy'])"
      ],
      "execution_count": 0,
      "outputs": []
    },
    {
      "cell_type": "code",
      "metadata": {
        "id": "4xWoKhPY9Of5",
        "colab_type": "code",
        "outputId": "2adfa3b4-3f78-461d-dc42-b9b30f46bb97",
        "colab": {
          "base_uri": "https://localhost:8080/",
          "height": 1000
        }
      },
      "source": [
        "model.fit_generator(iterator,nb_epoch=60,steps_per_epoch=len(iterator), verbose=1,validation_data=(X_test, Y_test),callbacks=[LearningRateScheduler(scheduler, verbose=1)])"
      ],
      "execution_count": 39,
      "outputs": [
        {
          "output_type": "stream",
          "text": [
            "/usr/local/lib/python3.6/dist-packages/ipykernel_launcher.py:1: UserWarning: The semantics of the Keras 2 argument `steps_per_epoch` is not the same as the Keras 1 argument `samples_per_epoch`. `steps_per_epoch` is the number of batches to draw from the generator at each epoch. Basically steps_per_epoch = samples_per_epoch/batch_size. Similarly `nb_val_samples`->`validation_steps` and `val_samples`->`steps` arguments have changed. Update your method calls accordingly.\n",
            "  \"\"\"Entry point for launching an IPython kernel.\n",
            "/usr/local/lib/python3.6/dist-packages/ipykernel_launcher.py:1: UserWarning: Update your `fit_generator` call to the Keras 2 API: `fit_generator(<keras_pre..., steps_per_epoch=1875, verbose=1, validation_data=(array([[[..., callbacks=[<keras.ca..., epochs=60)`\n",
            "  \"\"\"Entry point for launching an IPython kernel.\n"
          ],
          "name": "stderr"
        },
        {
          "output_type": "stream",
          "text": [
            "Epoch 1/60\n",
            "\n",
            "Epoch 00001: LearningRateScheduler setting learning rate to 0.003.\n",
            "1875/1875 [==============================] - 34s 18ms/step - loss: 0.4695 - acc: 0.9209 - val_loss: 2.6220 - val_acc: 0.1730\n",
            "Epoch 2/60\n",
            "\n",
            "Epoch 00002: LearningRateScheduler setting learning rate to 0.0022744503.\n",
            "1875/1875 [==============================] - 32s 17ms/step - loss: 0.2507 - acc: 0.9590 - val_loss: 5.3250 - val_acc: 0.1136\n",
            "Epoch 3/60\n",
            "\n",
            "Epoch 00003: LearningRateScheduler setting learning rate to 0.0018315018.\n",
            "1875/1875 [==============================] - 32s 17ms/step - loss: 0.2193 - acc: 0.9627 - val_loss: 4.8726 - val_acc: 0.1240\n",
            "Epoch 4/60\n",
            "\n",
            "Epoch 00004: LearningRateScheduler setting learning rate to 0.0015329586.\n",
            "1875/1875 [==============================] - 32s 17ms/step - loss: 0.1938 - acc: 0.9665 - val_loss: 5.8381 - val_acc: 0.1135\n",
            "Epoch 5/60\n",
            "\n",
            "Epoch 00005: LearningRateScheduler setting learning rate to 0.0013181019.\n",
            "1875/1875 [==============================] - 32s 17ms/step - loss: 0.1701 - acc: 0.9711 - val_loss: 4.7862 - val_acc: 0.1135\n",
            "Epoch 6/60\n",
            "\n",
            "Epoch 00006: LearningRateScheduler setting learning rate to 0.0011560694.\n",
            "1875/1875 [==============================] - 32s 17ms/step - loss: 0.1601 - acc: 0.9725 - val_loss: 6.2304 - val_acc: 0.1135\n",
            "Epoch 7/60\n",
            "\n",
            "Epoch 00007: LearningRateScheduler setting learning rate to 0.0010295127.\n",
            "1875/1875 [==============================] - 32s 17ms/step - loss: 0.1466 - acc: 0.9750 - val_loss: 8.7965 - val_acc: 0.1135\n",
            "Epoch 8/60\n",
            "\n",
            "Epoch 00008: LearningRateScheduler setting learning rate to 0.0009279307.\n",
            "1875/1875 [==============================] - 32s 17ms/step - loss: 0.1410 - acc: 0.9746 - val_loss: 5.5738 - val_acc: 0.1135\n",
            "Epoch 9/60\n",
            "\n",
            "Epoch 00009: LearningRateScheduler setting learning rate to 0.0008445946.\n",
            "1875/1875 [==============================] - 32s 17ms/step - loss: 0.1314 - acc: 0.9761 - val_loss: 7.4870 - val_acc: 0.1135\n",
            "Epoch 10/60\n",
            "\n",
            "Epoch 00010: LearningRateScheduler setting learning rate to 0.0007749935.\n",
            "1875/1875 [==============================] - 32s 17ms/step - loss: 0.1259 - acc: 0.9776 - val_loss: 5.9014 - val_acc: 0.1135\n",
            "Epoch 11/60\n",
            "\n",
            "Epoch 00011: LearningRateScheduler setting learning rate to 0.0007159905.\n",
            "1875/1875 [==============================] - 32s 17ms/step - loss: 0.1195 - acc: 0.9778 - val_loss: 5.6693 - val_acc: 0.1135\n",
            "Epoch 12/60\n",
            "\n",
            "Epoch 00012: LearningRateScheduler setting learning rate to 0.000665336.\n",
            "1875/1875 [==============================] - 32s 17ms/step - loss: 0.1165 - acc: 0.9786 - val_loss: 6.8250 - val_acc: 0.1135\n",
            "Epoch 13/60\n",
            "\n",
            "Epoch 00013: LearningRateScheduler setting learning rate to 0.0006213753.\n",
            "1875/1875 [==============================] - 32s 17ms/step - loss: 0.1098 - acc: 0.9796 - val_loss: 7.3441 - val_acc: 0.1135\n",
            "Epoch 14/60\n",
            "\n",
            "Epoch 00014: LearningRateScheduler setting learning rate to 0.0005828638.\n",
            "1875/1875 [==============================] - 32s 17ms/step - loss: 0.1077 - acc: 0.9798 - val_loss: 6.5244 - val_acc: 0.1135\n",
            "Epoch 15/60\n",
            "\n",
            "Epoch 00015: LearningRateScheduler setting learning rate to 0.0005488474.\n",
            "1875/1875 [==============================] - 32s 17ms/step - loss: 0.1047 - acc: 0.9802 - val_loss: 8.1005 - val_acc: 0.1135\n",
            "Epoch 16/60\n",
            "\n",
            "Epoch 00016: LearningRateScheduler setting learning rate to 0.0005185825.\n",
            "1875/1875 [==============================] - 32s 17ms/step - loss: 0.1010 - acc: 0.9814 - val_loss: 9.8532 - val_acc: 0.1135\n",
            "Epoch 17/60\n",
            "\n",
            "Epoch 00017: LearningRateScheduler setting learning rate to 0.000491481.\n",
            "1875/1875 [==============================] - 32s 17ms/step - loss: 0.0997 - acc: 0.9804 - val_loss: 8.5101 - val_acc: 0.1135\n",
            "Epoch 18/60\n",
            "\n",
            "Epoch 00018: LearningRateScheduler setting learning rate to 0.0004670715.\n",
            "1875/1875 [==============================] - 32s 17ms/step - loss: 0.0973 - acc: 0.9811 - val_loss: 9.5217 - val_acc: 0.1135\n",
            "Epoch 19/60\n",
            "\n",
            "Epoch 00019: LearningRateScheduler setting learning rate to 0.0004449718.\n",
            "1875/1875 [==============================] - 32s 17ms/step - loss: 0.0934 - acc: 0.9822 - val_loss: 8.5822 - val_acc: 0.1135\n",
            "Epoch 20/60\n",
            "\n",
            "Epoch 00020: LearningRateScheduler setting learning rate to 0.000424869.\n",
            "1875/1875 [==============================] - 32s 17ms/step - loss: 0.0923 - acc: 0.9826 - val_loss: 7.0589 - val_acc: 0.1135\n",
            "Epoch 21/60\n",
            "\n",
            "Epoch 00021: LearningRateScheduler setting learning rate to 0.0004065041.\n",
            "1875/1875 [==============================] - 32s 17ms/step - loss: 0.0907 - acc: 0.9822 - val_loss: 8.8579 - val_acc: 0.1135\n",
            "Epoch 22/60\n",
            "\n",
            "Epoch 00022: LearningRateScheduler setting learning rate to 0.000389661.\n",
            "1875/1875 [==============================] - 32s 17ms/step - loss: 0.0893 - acc: 0.9827 - val_loss: 8.2188 - val_acc: 0.1135\n",
            "Epoch 23/60\n",
            "\n",
            "Epoch 00023: LearningRateScheduler setting learning rate to 0.0003741581.\n",
            "1875/1875 [==============================] - 32s 17ms/step - loss: 0.0863 - acc: 0.9832 - val_loss: 6.9073 - val_acc: 0.1135\n",
            "Epoch 24/60\n",
            "\n",
            "Epoch 00024: LearningRateScheduler setting learning rate to 0.0003598417.\n",
            "1875/1875 [==============================] - 33s 17ms/step - loss: 0.0840 - acc: 0.9836 - val_loss: 6.9640 - val_acc: 0.1135\n",
            "Epoch 25/60\n",
            "\n",
            "Epoch 00025: LearningRateScheduler setting learning rate to 0.0003465804.\n",
            "1875/1875 [==============================] - 32s 17ms/step - loss: 0.0831 - acc: 0.9838 - val_loss: 8.7474 - val_acc: 0.1135\n",
            "Epoch 26/60\n",
            "\n",
            "Epoch 00026: LearningRateScheduler setting learning rate to 0.0003342618.\n",
            "1875/1875 [==============================] - 32s 17ms/step - loss: 0.0831 - acc: 0.9832 - val_loss: 8.3730 - val_acc: 0.1135\n",
            "Epoch 27/60\n",
            "\n",
            "Epoch 00027: LearningRateScheduler setting learning rate to 0.0003227889.\n",
            "1875/1875 [==============================] - 33s 17ms/step - loss: 0.0801 - acc: 0.9843 - val_loss: 8.5129 - val_acc: 0.1135\n",
            "Epoch 28/60\n",
            "\n",
            "Epoch 00028: LearningRateScheduler setting learning rate to 0.0003120774.\n",
            "1875/1875 [==============================] - 32s 17ms/step - loss: 0.0794 - acc: 0.9843 - val_loss: 9.8199 - val_acc: 0.1135\n",
            "Epoch 29/60\n",
            "\n",
            "Epoch 00029: LearningRateScheduler setting learning rate to 0.000302054.\n",
            "1875/1875 [==============================] - 32s 17ms/step - loss: 0.0781 - acc: 0.9841 - val_loss: 8.9754 - val_acc: 0.1135\n",
            "Epoch 30/60\n",
            "\n",
            "Epoch 00030: LearningRateScheduler setting learning rate to 0.0002926544.\n",
            "1875/1875 [==============================] - 32s 17ms/step - loss: 0.0773 - acc: 0.9842 - val_loss: 7.9302 - val_acc: 0.1135\n",
            "Epoch 31/60\n",
            "\n",
            "Epoch 00031: LearningRateScheduler setting learning rate to 0.0002838221.\n",
            "1875/1875 [==============================] - 32s 17ms/step - loss: 0.0766 - acc: 0.9846 - val_loss: 8.5159 - val_acc: 0.1135\n",
            "Epoch 32/60\n",
            "\n",
            "Epoch 00032: LearningRateScheduler setting learning rate to 0.0002755074.\n",
            "1875/1875 [==============================] - 32s 17ms/step - loss: 0.0762 - acc: 0.9845 - val_loss: 9.6665 - val_acc: 0.1135\n",
            "Epoch 33/60\n",
            "\n",
            "Epoch 00033: LearningRateScheduler setting learning rate to 0.000267666.\n",
            "1875/1875 [==============================] - 32s 17ms/step - loss: 0.0736 - acc: 0.9847 - val_loss: 8.6100 - val_acc: 0.1135\n",
            "Epoch 34/60\n",
            "\n",
            "Epoch 00034: LearningRateScheduler setting learning rate to 0.0002602585.\n",
            "1875/1875 [==============================] - 33s 17ms/step - loss: 0.0719 - acc: 0.9851 - val_loss: 8.6460 - val_acc: 0.1135\n",
            "Epoch 35/60\n",
            "\n",
            "Epoch 00035: LearningRateScheduler setting learning rate to 0.00025325.\n",
            "1875/1875 [==============================] - 32s 17ms/step - loss: 0.0728 - acc: 0.9853 - val_loss: 8.2198 - val_acc: 0.1135\n",
            "Epoch 36/60\n",
            "\n",
            "Epoch 00036: LearningRateScheduler setting learning rate to 0.0002466091.\n",
            "1875/1875 [==============================] - 32s 17ms/step - loss: 0.0708 - acc: 0.9855 - val_loss: 8.6739 - val_acc: 0.1135\n",
            "Epoch 37/60\n",
            "\n",
            "Epoch 00037: LearningRateScheduler setting learning rate to 0.0002403076.\n",
            "1875/1875 [==============================] - 33s 17ms/step - loss: 0.0711 - acc: 0.9851 - val_loss: 10.0096 - val_acc: 0.1135\n",
            "Epoch 38/60\n",
            "\n",
            "Epoch 00038: LearningRateScheduler setting learning rate to 0.0002343201.\n",
            "1875/1875 [==============================] - 32s 17ms/step - loss: 0.0694 - acc: 0.9860 - val_loss: 9.0985 - val_acc: 0.1135\n",
            "Epoch 39/60\n",
            "\n",
            "Epoch 00039: LearningRateScheduler setting learning rate to 0.0002286237.\n",
            "1875/1875 [==============================] - 32s 17ms/step - loss: 0.0697 - acc: 0.9854 - val_loss: 9.5840 - val_acc: 0.1135\n",
            "Epoch 40/60\n",
            "\n",
            "Epoch 00040: LearningRateScheduler setting learning rate to 0.0002231977.\n",
            "1875/1875 [==============================] - 32s 17ms/step - loss: 0.0678 - acc: 0.9859 - val_loss: 9.1181 - val_acc: 0.1135\n",
            "Epoch 41/60\n",
            "\n",
            "Epoch 00041: LearningRateScheduler setting learning rate to 0.0002180233.\n",
            "1875/1875 [==============================] - 32s 17ms/step - loss: 0.0677 - acc: 0.9864 - val_loss: 10.2893 - val_acc: 0.1135\n",
            "Epoch 42/60\n",
            "\n",
            "Epoch 00042: LearningRateScheduler setting learning rate to 0.0002130833.\n",
            "1875/1875 [==============================] - 32s 17ms/step - loss: 0.0670 - acc: 0.9862 - val_loss: 11.5140 - val_acc: 0.1135\n",
            "Epoch 43/60\n",
            "\n",
            "Epoch 00043: LearningRateScheduler setting learning rate to 0.0002083623.\n",
            "1875/1875 [==============================] - 32s 17ms/step - loss: 0.0658 - acc: 0.9863 - val_loss: 11.6833 - val_acc: 0.1135\n",
            "Epoch 44/60\n",
            "\n",
            "Epoch 00044: LearningRateScheduler setting learning rate to 0.0002038459.\n",
            "1875/1875 [==============================] - 32s 17ms/step - loss: 0.0646 - acc: 0.9869 - val_loss: 9.8804 - val_acc: 0.1135\n",
            "Epoch 45/60\n",
            "\n",
            "Epoch 00045: LearningRateScheduler setting learning rate to 0.0001995211.\n",
            "1875/1875 [==============================] - 32s 17ms/step - loss: 0.0643 - acc: 0.9863 - val_loss: 10.6533 - val_acc: 0.1135\n",
            "Epoch 46/60\n",
            "\n",
            "Epoch 00046: LearningRateScheduler setting learning rate to 0.0001953761.\n",
            "1875/1875 [==============================] - 32s 17ms/step - loss: 0.0637 - acc: 0.9866 - val_loss: 11.0391 - val_acc: 0.1135\n",
            "Epoch 47/60\n",
            "\n",
            "Epoch 00047: LearningRateScheduler setting learning rate to 0.0001913998.\n",
            "1875/1875 [==============================] - 32s 17ms/step - loss: 0.0634 - acc: 0.9870 - val_loss: 11.0489 - val_acc: 0.1135\n",
            "Epoch 48/60\n",
            "\n",
            "Epoch 00048: LearningRateScheduler setting learning rate to 0.0001875821.\n",
            "1875/1875 [==============================] - 32s 17ms/step - loss: 0.0643 - acc: 0.9862 - val_loss: 10.8656 - val_acc: 0.1135\n",
            "Epoch 49/60\n",
            "\n",
            "Epoch 00049: LearningRateScheduler setting learning rate to 0.0001839137.\n",
            "1875/1875 [==============================] - 32s 17ms/step - loss: 0.0624 - acc: 0.9868 - val_loss: 10.9099 - val_acc: 0.1135\n",
            "Epoch 50/60\n",
            "\n",
            "Epoch 00050: LearningRateScheduler setting learning rate to 0.000180386.\n",
            "1875/1875 [==============================] - 32s 17ms/step - loss: 0.0611 - acc: 0.9871 - val_loss: 11.0843 - val_acc: 0.1135\n",
            "Epoch 51/60\n",
            "\n",
            "Epoch 00051: LearningRateScheduler setting learning rate to 0.0001769912.\n",
            "1875/1875 [==============================] - 32s 17ms/step - loss: 0.0611 - acc: 0.9866 - val_loss: 10.0973 - val_acc: 0.1135\n",
            "Epoch 52/60\n",
            "\n",
            "Epoch 00052: LearningRateScheduler setting learning rate to 0.0001737217.\n",
            "1875/1875 [==============================] - 32s 17ms/step - loss: 0.0612 - acc: 0.9871 - val_loss: 10.6991 - val_acc: 0.1135\n",
            "Epoch 53/60\n",
            "\n",
            "Epoch 00053: LearningRateScheduler setting learning rate to 0.0001705708.\n",
            "1875/1875 [==============================] - 33s 17ms/step - loss: 0.0604 - acc: 0.9871 - val_loss: 10.7103 - val_acc: 0.1135\n",
            "Epoch 54/60\n",
            "\n",
            "Epoch 00054: LearningRateScheduler setting learning rate to 0.0001675322.\n",
            "1875/1875 [==============================] - 32s 17ms/step - loss: 0.0602 - acc: 0.9871 - val_loss: 11.0818 - val_acc: 0.1135\n",
            "Epoch 55/60\n",
            "\n",
            "Epoch 00055: LearningRateScheduler setting learning rate to 0.0001646.\n",
            "1875/1875 [==============================] - 32s 17ms/step - loss: 0.0597 - acc: 0.9872 - val_loss: 10.9922 - val_acc: 0.1135\n",
            "Epoch 56/60\n",
            "\n",
            "Epoch 00056: LearningRateScheduler setting learning rate to 0.0001617687.\n",
            "1875/1875 [==============================] - 32s 17ms/step - loss: 0.0592 - acc: 0.9870 - val_loss: 9.6511 - val_acc: 0.1135\n",
            "Epoch 57/60\n",
            "\n",
            "Epoch 00057: LearningRateScheduler setting learning rate to 0.0001590331.\n",
            "1875/1875 [==============================] - 32s 17ms/step - loss: 0.0600 - acc: 0.9869 - val_loss: 11.1479 - val_acc: 0.1135\n",
            "Epoch 58/60\n",
            "\n",
            "Epoch 00058: LearningRateScheduler setting learning rate to 0.0001563885.\n",
            "1875/1875 [==============================] - 32s 17ms/step - loss: 0.0589 - acc: 0.9868 - val_loss: 10.8578 - val_acc: 0.1135\n",
            "Epoch 59/60\n",
            "\n",
            "Epoch 00059: LearningRateScheduler setting learning rate to 0.0001538304.\n",
            "1875/1875 [==============================] - 32s 17ms/step - loss: 0.0580 - acc: 0.9880 - val_loss: 10.9507 - val_acc: 0.1135\n",
            "Epoch 60/60\n",
            "\n",
            "Epoch 00060: LearningRateScheduler setting learning rate to 0.0001513546.\n",
            "1875/1875 [==============================] - 32s 17ms/step - loss: 0.0590 - acc: 0.9871 - val_loss: 10.3874 - val_acc: 0.1135\n"
          ],
          "name": "stdout"
        },
        {
          "output_type": "execute_result",
          "data": {
            "text/plain": [
              "<keras.callbacks.History at 0x7f2581caa518>"
            ]
          },
          "metadata": {
            "tags": []
          },
          "execution_count": 39
        }
      ]
    },
    {
      "cell_type": "code",
      "metadata": {
        "id": "AtsH-lLk-eLb",
        "colab_type": "code",
        "colab": {}
      },
      "source": [
        "score = model.evaluate(X_test, Y_test, verbose=0)"
      ],
      "execution_count": 0,
      "outputs": []
    },
    {
      "cell_type": "code",
      "metadata": {
        "id": "mkX8JMv79q9r",
        "colab_type": "code",
        "outputId": "08fcbf51-eeb0-4928-9cd6-155e6efd946a",
        "colab": {
          "base_uri": "https://localhost:8080/",
          "height": 35
        }
      },
      "source": [
        "print(score)"
      ],
      "execution_count": 45,
      "outputs": [
        {
          "output_type": "stream",
          "text": [
            "[10.387421775817872, 0.1135]\n"
          ],
          "name": "stdout"
        }
      ]
    },
    {
      "cell_type": "code",
      "metadata": {
        "id": "OCWoJkwE9suh",
        "colab_type": "code",
        "colab": {}
      },
      "source": [
        "y_pred = model.predict(X_test)"
      ],
      "execution_count": 0,
      "outputs": []
    },
    {
      "cell_type": "code",
      "metadata": {
        "id": "TDW8YEjfg4XW",
        "colab_type": "code",
        "outputId": "1999074f-eae5-4734-a2bb-f6ccbe30633f",
        "colab": {
          "base_uri": "https://localhost:8080/",
          "height": 167
        }
      },
      "source": [
        "weights = model.get_variable_value()"
      ],
      "execution_count": 43,
      "outputs": [
        {
          "output_type": "error",
          "ename": "AttributeError",
          "evalue": "ignored",
          "traceback": [
            "\u001b[0;31m---------------------------------------------------------------------------\u001b[0m",
            "\u001b[0;31mAttributeError\u001b[0m                            Traceback (most recent call last)",
            "\u001b[0;32m<ipython-input-43-743db5e07057>\u001b[0m in \u001b[0;36m<module>\u001b[0;34m()\u001b[0m\n\u001b[0;32m----> 1\u001b[0;31m \u001b[0mweights\u001b[0m \u001b[0;34m=\u001b[0m \u001b[0mmodel\u001b[0m\u001b[0;34m.\u001b[0m\u001b[0mget_variable_value\u001b[0m\u001b[0;34m(\u001b[0m\u001b[0;34m)\u001b[0m\u001b[0;34m\u001b[0m\u001b[0;34m\u001b[0m\u001b[0m\n\u001b[0m",
            "\u001b[0;31mAttributeError\u001b[0m: 'Sequential' object has no attribute 'get_variable_value'"
          ]
        }
      ]
    },
    {
      "cell_type": "code",
      "metadata": {
        "id": "Ym7iCFBm9uBs",
        "colab_type": "code",
        "colab": {}
      },
      "source": [
        "print(y_pred[:9])\n",
        "print(y_test[:9])"
      ],
      "execution_count": 0,
      "outputs": []
    },
    {
      "cell_type": "code",
      "metadata": {
        "id": "2GY4Upv4dsUR",
        "colab_type": "code",
        "colab": {}
      },
      "source": [
        "import numpy as np\n",
        "from matplotlib import pyplot as plt\n",
        "from keras import backend as K\n",
        "%matplotlib inline\n",
        "# util function to convert a tensor into a valid image\n",
        "def deprocess_image(x):\n",
        "    # normalize tensor: center on 0., ensure std is 0.1\n",
        "    x -= x.mean()\n",
        "    x /= (x.std() + 1e-5)\n",
        "    x *= 0.1\n",
        "\n",
        "    # clip to [0, 1]\n",
        "    x += 0.5\n",
        "    x = np.clip(x, 0, 1)\n",
        "\n",
        "    # convert to RGB array\n",
        "    x *= 255\n",
        "    #x = x.transpose((1, 2, 0))\n",
        "    x = np.clip(x, 0, 255).astype('uint8')\n",
        "    return x\n",
        "\n",
        "def vis_img_in_filter(layer_name,img = np.array(X_train[2]).reshape((1, 28, 28, 1)).astype(np.float64)):\n",
        "    layer_dict = dict([(layer.name, layer) for layer in model.layers])\n",
        "    layer_output = layer_dict[layer_name].output\n",
        "    img_ascs = list()\n",
        "    for filter_index in range(layer_output.shape[3]):\n",
        "        # build a loss function that maximizes the activation\n",
        "        # of the nth filter of the layer considered\n",
        "        loss = K.mean(layer_output[:, :, :, filter_index])\n",
        "\n",
        "        # compute the gradient of the input picture wrt this loss\n",
        "        grads = K.gradients(loss, model.input)[0]\n",
        "\n",
        "        # normalization trick: we normalize the gradient\n",
        "        grads /= (K.sqrt(K.mean(K.square(grads))) + 1e-5)\n",
        "\n",
        "        # this function returns the loss and grads given the input picture\n",
        "        iterate = K.function([model.input], [loss, grads])\n",
        "\n",
        "        # step size for gradient ascent\n",
        "        step = 5.\n",
        "\n",
        "        img_asc = np.array(img)\n",
        "        # run gradient ascent for 20 steps\n",
        "        for i in range(20):\n",
        "            loss_value, grads_value = iterate([img_asc])\n",
        "            img_asc += grads_value * step\n",
        "\n",
        "        img_asc = img_asc[0]\n",
        "        img_ascs.append(deprocess_image(img_asc).reshape((28, 28)))\n",
        "        \n",
        "    print(layer_output.shape[3])\n",
        "    if layer_output.shape[3] >= 35:\n",
        "        plot_x, plot_y = 6, 6\n",
        "    elif layer_output.shape[3] >= 23:\n",
        "        plot_x, plot_y = 4, 6\n",
        "    elif layer_output.shape[3] >= 11:\n",
        "        plot_x, plot_y = 2, 6\n",
        "    else:\n",
        "        plot_x, plot_y = 1, 2\n",
        "    fig, ax = plt.subplots(plot_x,plot_y, figsize = (12, 12))\n",
        "    reshape = img.reshape((28, 28))\n",
        "    ax[0, 0].imshow(reshape, cmap = 'gray')\n",
        "    ax[0, 0].set_title('Input image')\n",
        "    fig.suptitle('Input image and %s filters' % (layer_name,))\n",
        "    fig.tight_layout(pad = 0.3, rect = [0, 0, 0.9, 0.9])\n",
        "    for (x, y) in [(i, j) for i in range(plot_x) for j in range(plot_y)]:\n",
        "        if x == 0 and y == 0:\n",
        "            continue\n",
        "        ax[x, y].imshow(img_ascs[x * plot_y + y - 1], cmap = 'gray')\n",
        "        ax[x, y].set_title('filter %d' % (x * plot_y + y - 1))\n",
        "\n",
        "vis_img_in_filter(layer_name= 'layer3')"
      ],
      "execution_count": 0,
      "outputs": []
    },
    {
      "cell_type": "code",
      "metadata": {
        "id": "9tvptcn8dxvp",
        "colab_type": "code",
        "colab": {}
      },
      "source": [
        "vis_img_in_filter(layer_name= 'layer6')"
      ],
      "execution_count": 0,
      "outputs": []
    }
  ]
}